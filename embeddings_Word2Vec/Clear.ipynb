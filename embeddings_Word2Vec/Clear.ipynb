{
 "cells": [
  {
   "cell_type": "code",
   "execution_count": 1,
   "metadata": {
    "collapsed": false
   },
   "outputs": [
    {
     "name": "stderr",
     "output_type": "stream",
     "text": [
      "C:\\Users\\PedroAlberto\\Anaconda3\\lib\\site-packages\\IPython\\nbformat.py:13: ShimWarning: The `IPython.nbformat` package has been deprecated since IPython 4.0. You should import from nbformat instead.\n",
      "  \"You should import from nbformat instead.\", ShimWarning)\n",
      "C:\\Users\\PedroAlberto\\Anaconda3\\lib\\site-packages\\nbformat\\current.py:19: UserWarning: nbformat.current is deprecated.\n",
      "\n",
      "- use nbformat for read/write/validate public API\n",
      "- use nbformat.vX directly to composing notebooks of a particular version\n",
      "\n",
      "  \"\"\")\n"
     ]
    }
   ],
   "source": [
    "import sys\n",
    "import io\n",
    "import os\n",
    "from IPython.nbformat.current import read, write\n",
    "\n",
    "\n",
    "def remove_outputs(nb):\n",
    "    \"\"\"remove the outputs from a notebook\"\"\"\n",
    "    for ws in nb.worksheets:\n",
    "        for cell in ws.cells:\n",
    "            if cell.cell_type == 'code':\n",
    "                cell.outputs = []"
   ]
  },
  {
   "cell_type": "code",
   "execution_count": 4,
   "metadata": {
    "collapsed": false
   },
   "outputs": [
    {
     "name": "stdout",
     "output_type": "stream",
     "text": [
      "wrote Skip-Gram_word2vec_removed.ipynb\n"
     ]
    }
   ],
   "source": [
    "\n",
    "fname = \"Skip-Gram_word2vec.ipynb\"\n",
    "with io.open(fname, 'r') as f:\n",
    "    nb = read(f, 'json')\n",
    "remove_outputs(nb)\n",
    "base, ext = os.path.splitext(fname)\n",
    "new_ipynb = \"%s_removed%s\" % (base, ext)\n",
    "with io.open(new_ipynb, 'w', encoding='utf8') as f:\n",
    "    write(nb, f, 'json')\n",
    "print (\"wrote %s\" % new_ipynb)"
   ]
  },
  {
   "cell_type": "code",
   "execution_count": null,
   "metadata": {
    "collapsed": true
   },
   "outputs": [],
   "source": []
  }
 ],
 "metadata": {
  "kernelspec": {
   "display_name": "Python [conda root]",
   "language": "python",
   "name": "conda-root-py"
  },
  "language_info": {
   "codemirror_mode": {
    "name": "ipython",
    "version": 3
   },
   "file_extension": ".py",
   "mimetype": "text/x-python",
   "name": "python",
   "nbconvert_exporter": "python",
   "pygments_lexer": "ipython3",
   "version": "3.5.3"
  }
 },
 "nbformat": 4,
 "nbformat_minor": 2
}
