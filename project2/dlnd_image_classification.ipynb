{
 "cells": [
  {
   "cell_type": "markdown",
   "metadata": {
    "collapsed": true,
    "deletable": true,
    "editable": true
   },
   "source": [
    "# Image Classification\n",
    "In this project, you'll classify images from the [CIFAR-10 dataset](https://www.cs.toronto.edu/~kriz/cifar.html).  The dataset consists of airplanes, dogs, cats, and other objects. You'll preprocess the images, then train a convolutional neural network on all the samples. The images need to be normalized and the labels need to be one-hot encoded.  You'll get to apply what you learned and build a convolutional, max pooling, dropout, and fully connected layers.  At the end, you'll get to see your neural network's predictions on the sample images.\n",
    "## Get the Data\n",
    "Run the following cell to download the [CIFAR-10 dataset for python](https://www.cs.toronto.edu/~kriz/cifar-10-python.tar.gz)."
   ]
  },
  {
   "cell_type": "code",
   "execution_count": 1,
   "metadata": {
    "collapsed": false,
    "deletable": true,
    "editable": true
   },
   "outputs": [
    {
     "name": "stdout",
     "output_type": "stream",
     "text": [
      "All files found!\n"
     ]
    }
   ],
   "source": [
    "\"\"\"\n",
    "DON'T MODIFY ANYTHING IN THIS CELL THAT IS BELOW THIS LINE\n",
    "\"\"\"\n",
    "from urllib.request import urlretrieve\n",
    "from os.path import isfile, isdir\n",
    "from tqdm import tqdm\n",
    "import problem_unittests as tests\n",
    "import tarfile\n",
    "import sklearn\n",
    "\n",
    "cifar10_dataset_folder_path = 'cifar-10-batches-py'\n",
    "\n",
    "# Use Floyd's cifar-10 dataset if present\n",
    "floyd_cifar10_location = '/input/cifar-10/python.tar.gz'\n",
    "if isfile(floyd_cifar10_location):\n",
    "    tar_gz_path = floyd_cifar10_location\n",
    "else:\n",
    "    tar_gz_path = 'cifar-10-python.tar.gz'\n",
    "\n",
    "class DLProgress(tqdm):\n",
    "    last_block = 0\n",
    "\n",
    "    def hook(self, block_num=1, block_size=1, total_size=None):\n",
    "        self.total = total_size\n",
    "        self.update((block_num - self.last_block) * block_size)\n",
    "        self.last_block = block_num\n",
    "\n",
    "if not isfile(tar_gz_path):\n",
    "    with DLProgress(unit='B', unit_scale=True, miniters=1, desc='CIFAR-10 Dataset') as pbar:\n",
    "        urlretrieve(\n",
    "            'https://www.cs.toronto.edu/~kriz/cifar-10-python.tar.gz',\n",
    "            tar_gz_path,\n",
    "            pbar.hook)\n",
    "\n",
    "if not isdir(cifar10_dataset_folder_path):\n",
    "    with tarfile.open(tar_gz_path) as tar:\n",
    "        tar.extractall()\n",
    "        tar.close()\n",
    "\n",
    "\n",
    "tests.test_folder_path(cifar10_dataset_folder_path)"
   ]
  },
  {
   "cell_type": "markdown",
   "metadata": {
    "deletable": true,
    "editable": true
   },
   "source": [
    "## Explore the Data\n",
    "The dataset is broken into batches to prevent your machine from running out of memory.  The CIFAR-10 dataset consists of 5 batches, named `data_batch_1`, `data_batch_2`, etc.. Each batch contains the labels and images that are one of the following:\n",
    "* airplane\n",
    "* automobile\n",
    "* bird\n",
    "* cat\n",
    "* deer\n",
    "* dog\n",
    "* frog\n",
    "* horse\n",
    "* ship\n",
    "* truck\n",
    "\n",
    "Understanding a dataset is part of making predictions on the data.  Play around with the code cell below by changing the `batch_id` and `sample_id`. The `batch_id` is the id for a batch (1-5). The `sample_id` is the id for a image and label pair in the batch.\n",
    "\n",
    "Ask yourself \"What are all possible labels?\", \"What is the range of values for the image data?\", \"Are the labels in order or random?\".  Answers to questions like these will help you preprocess the data and end up with better predictions."
   ]
  },
  {
   "cell_type": "code",
   "execution_count": 2,
   "metadata": {
    "collapsed": false,
    "deletable": true,
    "editable": true
   },
   "outputs": [
    {
     "name": "stdout",
     "output_type": "stream",
     "text": [
      "\n",
      "Stats of batch 1:\n",
      "Samples: 10000\n",
      "Label Counts: {0: 1005, 1: 974, 2: 1032, 3: 1016, 4: 999, 5: 937, 6: 1030, 7: 1001, 8: 1025, 9: 981}\n",
      "First 20 Labels: [6, 9, 9, 4, 1, 1, 2, 7, 8, 3, 4, 7, 7, 2, 9, 9, 9, 3, 2, 6]\n",
      "\n",
      "Example of Image 510:\n",
      "Image - Min Value: 0 Max Value: 244\n",
      "Image - Shape: (32, 32, 3)\n",
      "Label - Label Id: 2 Name: bird\n"
     ]
    },
    {
     "data": {
      "image/png": "[encoded data removed]",
      "text/plain": [
       "<matplotlib.figure.Figure at 0x7f6c4c0ac4a8>"
      ]
     },
     "metadata": {
      "image/png": {
       "height": 250,
       "width": 253
      }
     },
     "output_type": "display_data"
    }
   ],
   "source": [
    "%matplotlib inline\n",
    "%config InlineBackend.figure_format = 'retina'\n",
    "\n",
    "import helper\n",
    "import numpy as np\n",
    "\n",
    "# Explore the dataset\n",
    "batch_id = 1\n",
    "sample_id = 510\n",
    "helper.display_stats(cifar10_dataset_folder_path, batch_id, sample_id)"
   ]
  },
  {
   "cell_type": "markdown",
   "metadata": {
    "deletable": true,
    "editable": true
   },
   "source": [
    "## Implement Preprocess Functions\n",
    "### Normalize\n",
    "In the cell below, implement the `normalize` function to take in image data, `x`, and return it as a normalized Numpy array. The values should be in the range of 0 to 1, inclusive.  The return object should be the same shape as `x`."
   ]
  },
  {
   "cell_type": "code",
   "execution_count": 3,
   "metadata": {
    "collapsed": false,
    "deletable": true,
    "editable": true
   },
   "outputs": [
    {
     "name": "stdout",
     "output_type": "stream",
     "text": [
      "Tests Passed\n"
     ]
    }
   ],
   "source": [
    "norm = []\n",
    "def normalize(x):\n",
    "    \"\"\"\n",
    "    Normalize a list of sample image data in the range of 0 to 1\n",
    "    : x: List of image data.  The image shape is (32, 32, 3)\n",
    "    : return: Numpy array of normalize data\n",
    "    \"\"\"\n",
    "    #print(x[0])\n",
    "    global norm\n",
    "    norm = np.array(x[0]).astype('float')\n",
    "   \n",
    "    x = np.array(x).astype('float')\n",
    " \n",
    "    # TODO: Implement Function\n",
    "    for s in range(x.shape[0]):\n",
    "        norm_test = np.array(x[s]).astype('float')\n",
    "        for k in range(norm_test.shape[2]):\n",
    "            min = float(norm_test[:,:,k].min())\n",
    "            max = float(norm_test[:,:,k].max())\n",
    "            for i in range(norm_test.shape[0]):\n",
    "                for j in range(norm_test.shape[1]):\n",
    "                    norm_test[i,j,k] = ((float(norm_test[i,j,k] - min))/(max-min))\n",
    "        x[s] = np.array(norm_test).astype('float')\n",
    "    norm = x[0]\n",
    "    return x\n",
    "\n",
    "\n",
    "\"\"\"\n",
    "DON'T MODIFY ANYTHING IN THIS CELL THAT IS BELOW THIS LINE\n",
    "\"\"\"\n",
    "tests.test_normalize(normalize)"
   ]
  },
  {
   "cell_type": "code",
   "execution_count": 5,
   "metadata": {
    "collapsed": false,
    "deletable": true,
    "editable": true
   },
   "outputs": [],
   "source": [
    "#norm"
   ]
  },
  {
   "cell_type": "markdown",
   "metadata": {
    "deletable": true,
    "editable": true
   },
   "source": [
    "### One-hot encode\n",
    "Just like the previous code cell, you'll be implementing a function for preprocessing.  This time, you'll implement the `one_hot_encode` function. The input, `x`, are a list of labels.  Implement the function to return the list of labels as One-Hot encoded Numpy array.  The possible values for labels are 0 to 9. The one-hot encoding function should return the same encoding for each value between each call to `one_hot_encode`.  Make sure to save the map of encodings outside the function.\n",
    "\n",
    "Hint: Don't reinvent the wheel."
   ]
  },
  {
   "cell_type": "code",
   "execution_count": 6,
   "metadata": {
    "collapsed": false,
    "deletable": true,
    "editable": true
   },
   "outputs": [
    {
     "name": "stdout",
     "output_type": "stream",
     "text": [
      "Tests Passed\n"
     ]
    }
   ],
   "source": [
    "def one_hot_encode(x):\n",
    "    \"\"\"\n",
    "    One hot encode a list of sample labels. Return a one-hot encoded vector for each label.\n",
    "    : x: List of sample Labels\n",
    "    : return: Numpy array of one-hot encoded labels\n",
    "    \"\"\"\n",
    "    # TODO: Implement Function\n",
    "    \n",
    "    a = np.zeros((len(x),10))\n",
    "    for i in range(len(x)):\n",
    "        a[i,x[i]] += 1\n",
    "    \n",
    "    return a\n",
    "\n",
    "\n",
    "\"\"\"\n",
    "DON'T MODIFY ANYTHING IN THIS CELL THAT IS BELOW THIS LINE\n",
    "\"\"\"\n",
    "tests.test_one_hot_encode(one_hot_encode)"
   ]
  },
  {
   "cell_type": "code",
   "execution_count": null,
   "metadata": {
    "collapsed": true,
    "deletable": true,
    "editable": true
   },
   "outputs": [],
   "source": []
  },
  {
   "cell_type": "markdown",
   "metadata": {
    "deletable": true,
    "editable": true
   },
   "source": [
    "### Randomize Data\n",
    "As you saw from exploring the data above, the order of the samples are randomized.  It doesn't hurt to randomize it again, but you don't need to for this dataset."
   ]
  },
  {
   "cell_type": "markdown",
   "metadata": {
    "deletable": true,
    "editable": true
   },
   "source": [
    "## Preprocess all the data and save it\n",
    "Running the code cell below will preprocess all the CIFAR-10 data and save it to file. The code below also uses 10% of the training data for validation."
   ]
  },
  {
   "cell_type": "code",
   "execution_count": 7,
   "metadata": {
    "collapsed": false,
    "deletable": true,
    "editable": true
   },
   "outputs": [],
   "source": [
    "\"\"\"\n",
    "DON'T MODIFY ANYTHING IN THIS CELL\n",
    "\"\"\"\n",
    "# Preprocess Training, Validation, and Testing Data\n",
    "helper.preprocess_and_save_data(cifar10_dataset_folder_path, normalize, one_hot_encode)"
   ]
  },
  {
   "cell_type": "markdown",
   "metadata": {
    "deletable": true,
    "editable": true
   },
   "source": [
    "# Check Point\n",
    "This is your first checkpoint.  If you ever decide to come back to this notebook or have to restart the notebook, you can start from here.  The preprocessed data has been saved to disk."
   ]
  },
  {
   "cell_type": "code",
   "execution_count": 8,
   "metadata": {
    "collapsed": true,
    "deletable": true,
    "editable": true
   },
   "outputs": [],
   "source": [
    "\"\"\"\n",
    "DON'T MODIFY ANYTHING IN THIS CELL\n",
    "\"\"\"\n",
    "import pickle\n",
    "import problem_unittests as tests\n",
    "import helper\n",
    "\n",
    "# Load the Preprocessed Validation data\n",
    "valid_features, valid_labels = pickle.load(open('preprocess_validation.p', mode='rb'))"
   ]
  },
  {
   "cell_type": "markdown",
   "metadata": {
    "deletable": true,
    "editable": true
   },
   "source": [
    "## Build the network\n",
    "For the neural network, you'll build each layer into a function.  Most of the code you've seen has been outside of functions. To test your code more thoroughly, we require that you put each layer in a function.  This allows us to give you better feedback and test for simple mistakes using our unittests before you submit your project.\n",
    "\n",
    ">**Note:** If you're finding it hard to dedicate enough time for this course each week, we've provided a small shortcut to this part of the project. In the next couple of problems, you'll have the option to use classes from the [TensorFlow Layers](https://www.tensorflow.org/api_docs/python/tf/layers) or [TensorFlow Layers (contrib)](https://www.tensorflow.org/api_guides/python/contrib.layers) packages to build each layer, except the layers you build in the \"Convolutional and Max Pooling Layer\" section.  TF Layers is similar to Keras's and TFLearn's abstraction to layers, so it's easy to pickup.\n",
    "\n",
    ">However, if you would like to get the most out of this course, try to solve all the problems _without_ using anything from the TF Layers packages. You **can** still use classes from other packages that happen to have the same name as ones you find in TF Layers! For example, instead of using the TF Layers version of the `conv2d` class, [tf.layers.conv2d](https://www.tensorflow.org/api_docs/python/tf/layers/conv2d), you would want to use the TF Neural Network version of `conv2d`, [tf.nn.conv2d](https://www.tensorflow.org/api_docs/python/tf/nn/conv2d). \n",
    "\n",
    "Let's begin!\n",
    "\n",
    "### Input\n",
    "The neural network needs to read the image data, one-hot encoded labels, and dropout keep probability. Implement the following functions\n",
    "* Implement `neural_net_image_input`\n",
    " * Return a [TF Placeholder](https://www.tensorflow.org/api_docs/python/tf/placeholder)\n",
    " * Set the shape using `image_shape` with batch size set to `None`.\n",
    " * Name the TensorFlow placeholder \"x\" using the TensorFlow `name` parameter in the [TF Placeholder](https://www.tensorflow.org/api_docs/python/tf/placeholder).\n",
    "* Implement `neural_net_label_input`\n",
    " * Return a [TF Placeholder](https://www.tensorflow.org/api_docs/python/tf/placeholder)\n",
    " * Set the shape using `n_classes` with batch size set to `None`.\n",
    " * Name the TensorFlow placeholder \"y\" using the TensorFlow `name` parameter in the [TF Placeholder](https://www.tensorflow.org/api_docs/python/tf/placeholder).\n",
    "* Implement `neural_net_keep_prob_input`\n",
    " * Return a [TF Placeholder](https://www.tensorflow.org/api_docs/python/tf/placeholder) for dropout keep probability.\n",
    " * Name the TensorFlow placeholder \"keep_prob\" using the TensorFlow `name` parameter in the [TF Placeholder](https://www.tensorflow.org/api_docs/python/tf/placeholder).\n",
    "\n",
    "These names will be used at the end of the project to load your saved model.\n",
    "\n",
    "Note: `None` for shapes in TensorFlow allow for a dynamic size."
   ]
  },
  {
   "cell_type": "code",
   "execution_count": 9,
   "metadata": {
    "collapsed": false,
    "deletable": true,
    "editable": true
   },
   "outputs": [
    {
     "name": "stdout",
     "output_type": "stream",
     "text": [
      "Image Input Tests Passed.\n",
      "Label Input Tests Passed.\n",
      "Keep Prob Tests Passed.\n"
     ]
    }
   ],
   "source": [
    "import tensorflow as tf\n",
    "\n",
    "def neural_net_image_input(image_shape):\n",
    "    \"\"\"\n",
    "    Return a Tensor for a bach of image input\n",
    "    : image_shape: Shape of the images\n",
    "    : return: Tensor for image input.\n",
    "    \"\"\"\n",
    "    # TODO: Implement Function\n",
    "    x = tf.placeholder(tf.float32, [None, image_shape[0], image_shape[1], image_shape[2]], name='x')\n",
    "\n",
    "    return x\n",
    "\n",
    "\n",
    "def neural_net_label_input(n_classes):\n",
    "    \"\"\"\n",
    "    Return a Tensor for a batch of label input\n",
    "    : n_classes: Number of classes\n",
    "    : return: Tensor for label input.\n",
    "    \"\"\"\n",
    "    # TODO: Implement Function\n",
    "    return tf.placeholder(tf.float32, [None, n_classes], name=\"y\")\n",
    "\n",
    "\n",
    "def neural_net_keep_prob_input():\n",
    "    \"\"\"\n",
    "    Return a Tensor for keep probability\n",
    "    : return: Tensor for keep probability.\n",
    "    \"\"\"\n",
    "    # TODO: Implement Function\n",
    "    return tf.placeholder(tf.float32,name=\"keep_prob\")\n",
    "\n",
    "\n",
    "\"\"\"\n",
    "DON'T MODIFY ANYTHING IN THIS CELL THAT IS BELOW THIS LINE\n",
    "\"\"\"\n",
    "tf.reset_default_graph()\n",
    "tests.test_nn_image_inputs(neural_net_image_input)\n",
    "tests.test_nn_label_inputs(neural_net_label_input)\n",
    "tests.test_nn_keep_prob_inputs(neural_net_keep_prob_input)"
   ]
  },
  {
   "cell_type": "markdown",
   "metadata": {
    "deletable": true,
    "editable": true
   },
   "source": [
    "### Convolution and Max Pooling Layer\n",
    "Convolution layers have a lot of success with images. For this code cell, you should implement the function `conv2d_maxpool` to apply convolution then max pooling:\n",
    "* Create the weight and bias using `conv_ksize`, `conv_num_outputs` and the shape of `x_tensor`.\n",
    "* Apply a convolution to `x_tensor` using weight and `conv_strides`.\n",
    " * We recommend you use same padding, but you're welcome to use any padding.\n",
    "* Add bias\n",
    "* Add a nonlinear activation to the convolution.\n",
    "* Apply Max Pooling using `pool_ksize` and `pool_strides`.\n",
    " * We recommend you use same padding, but you're welcome to use any padding.\n",
    "\n",
    "**Note:** You **can't** use [TensorFlow Layers](https://www.tensorflow.org/api_docs/python/tf/layers) or [TensorFlow Layers (contrib)](https://www.tensorflow.org/api_guides/python/contrib.layers) for **this** layer, but you can still use TensorFlow's [Neural Network](https://www.tensorflow.org/api_docs/python/tf/nn) package. You may still use the shortcut option for all the **other** layers."
   ]
  },
  {
   "cell_type": "code",
   "execution_count": 10,
   "metadata": {
    "collapsed": false,
    "deletable": true,
    "editable": true
   },
   "outputs": [
    {
     "name": "stdout",
     "output_type": "stream",
     "text": [
      "Tests Passed\n"
     ]
    }
   ],
   "source": [
    "#out = 0\n",
    "def conv2d_maxpool(x_tensor, conv_num_outputs, conv_ksize, conv_strides, pool_ksize, pool_strides):\n",
    "    \"\"\"\n",
    "    Apply convolution then max pooling to x_tensor\n",
    "    :param x_tensor: TensorFlow Tensor\n",
    "    :param conv_num_outputs: Number of outputs for the convolutional layer\n",
    "    :param conv_ksize: kernal size 2-D Tuple for the convolutional layer\n",
    "    :param conv_strides: Stride 2-D Tuple for convolution\n",
    "    :param pool_ksize: kernal size 2-D Tuple for pool\n",
    "    :param pool_strides: Stride 2-D Tuple for pool\n",
    "    : return: A tensor that represents convolution and max pooling of x_tensor\n",
    "    \"\"\"\n",
    "    # TODO: Implement Function\n",
    "   \n",
    "    \n",
    "    F_W = tf.Variable(tf.truncated_normal(stddev=0.1,shape=(conv_ksize[0], conv_ksize[1], x_tensor.shape[3].value, conv_num_outputs)))\n",
    "    F_b = tf.Variable(tf.zeros(conv_num_outputs))\n",
    "    strides = [1, conv_strides[0], conv_strides[1], 1]\n",
    "    padding = \"SAME\"\n",
    "    #print(conv_ksize)\n",
    "    conv1 = tf.nn.conv2d(x_tensor, F_W, strides, padding)\n",
    "    conv1 = tf.nn.bias_add(conv1, F_b)\n",
    "    conv1 = tf.nn.relu(conv1)\n",
    "\n",
    "    maxPool = tf.nn.max_pool(conv1,\n",
    "        ksize=[1, pool_ksize[0], pool_ksize[0], 1],\n",
    "        strides=[1, pool_strides[0], pool_strides[0], 1],\n",
    "        padding='SAME')\n",
    "    \n",
    "    return maxPool\n",
    "\n",
    "\n",
    "\"\"\"\n",
    "DON'T MODIFY ANYTHING IN THIS CELL THAT IS BELOW THIS LINE\n",
    "\"\"\"\n",
    "tests.test_con_pool(conv2d_maxpool)"
   ]
  },
  {
   "cell_type": "markdown",
   "metadata": {
    "deletable": true,
    "editable": true
   },
   "source": [
    "### Flatten Layer\n",
    "Implement the `flatten` function to change the dimension of `x_tensor` from a 4-D tensor to a 2-D tensor.  The output should be the shape (*Batch Size*, *Flattened Image Size*). Shortcut option: you can use classes from the [TensorFlow Layers](https://www.tensorflow.org/api_docs/python/tf/layers) or [TensorFlow Layers (contrib)](https://www.tensorflow.org/api_guides/python/contrib.layers) packages for this layer. For more of a challenge, only use other TensorFlow packages."
   ]
  },
  {
   "cell_type": "code",
   "execution_count": 11,
   "metadata": {
    "collapsed": false,
    "deletable": true,
    "editable": true
   },
   "outputs": [
    {
     "name": "stdout",
     "output_type": "stream",
     "text": [
      "Tests Passed\n"
     ]
    }
   ],
   "source": [
    "def flatten(x_tensor):\n",
    "    \"\"\"\n",
    "    Flatten x_tensor to (Batch Size, Flattened Image Size)\n",
    "    : x_tensor: A tensor of size (Batch Size, ...), where ... are the image dimensions.\n",
    "    : return: A tensor of size (Batch Size, Flattened Image Size).\n",
    "    \"\"\"\n",
    "    # TODO: Implement Function\n",
    "\n",
    "    return tf.reshape(x_tensor, [-1, x_tensor.get_shape().as_list()[1]*x_tensor.get_shape().as_list()[2]*x_tensor.get_shape().as_list()[3]])\n",
    "\n",
    "\n",
    "\"\"\"\n",
    "DON'T MODIFY ANYTHING IN THIS CELL THAT IS BELOW THIS LINE\n",
    "\"\"\"\n",
    "tests.test_flatten(flatten)"
   ]
  },
  {
   "cell_type": "markdown",
   "metadata": {
    "deletable": true,
    "editable": true
   },
   "source": [
    "### Fully-Connected Layer\n",
    "Implement the `fully_conn` function to apply a fully connected layer to `x_tensor` with the shape (*Batch Size*, *num_outputs*). Shortcut option: you can use classes from the [TensorFlow Layers](https://www.tensorflow.org/api_docs/python/tf/layers) or [TensorFlow Layers (contrib)](https://www.tensorflow.org/api_guides/python/contrib.layers) packages for this layer. For more of a challenge, only use other TensorFlow packages."
   ]
  },
  {
   "cell_type": "code",
   "execution_count": 12,
   "metadata": {
    "collapsed": false,
    "deletable": true,
    "editable": true
   },
   "outputs": [
    {
     "name": "stdout",
     "output_type": "stream",
     "text": [
      "Tests Passed\n"
     ]
    }
   ],
   "source": [
    "def fully_conn(x_tensor, num_outputs):\n",
    "    \"\"\"\n",
    "    Apply a fully connected layer to x_tensor using weight and bias\n",
    "    : x_tensor: A 2-D tensor where the first dimension is batch size.\n",
    "    : num_outputs: The number of output that the new tensor should be.\n",
    "    : return: A 2-D tensor where the second dimension is num_outputs.\n",
    "    \"\"\"\n",
    "    # TODO: Implement Function\n",
    "   \n",
    "        \n",
    "    F_W = tf.Variable(tf.truncated_normal(stddev=0.1,shape=(x_tensor.get_shape().as_list()[1], num_outputs)))\n",
    "    F_b = tf.Variable(tf.zeros(num_outputs))\n",
    "\n",
    "    #print(conv_ksize)\n",
    "    fc = tf.add(tf.matmul(x_tensor, F_W), F_b)\n",
    "    fc = tf.nn.relu(fc)\n",
    "    \n",
    "    return fc\n",
    "\n",
    "\n",
    "\"\"\"\n",
    "DON'T MODIFY ANYTHING IN THIS CELL THAT IS BELOW THIS LINE\n",
    "\"\"\"\n",
    "tests.test_fully_conn(fully_conn)"
   ]
  },
  {
   "cell_type": "markdown",
   "metadata": {
    "deletable": true,
    "editable": true
   },
   "source": [
    "### Output Layer\n",
    "Implement the `output` function to apply a fully connected layer to `x_tensor` with the shape (*Batch Size*, *num_outputs*). Shortcut option: you can use classes from the [TensorFlow Layers](https://www.tensorflow.org/api_docs/python/tf/layers) or [TensorFlow Layers (contrib)](https://www.tensorflow.org/api_guides/python/contrib.layers) packages for this layer. For more of a challenge, only use other TensorFlow packages.\n",
    "\n",
    "**Note:** Activation, softmax, or cross entropy should **not** be applied to this."
   ]
  },
  {
   "cell_type": "code",
   "execution_count": 13,
   "metadata": {
    "collapsed": false,
    "deletable": true,
    "editable": true
   },
   "outputs": [
    {
     "name": "stdout",
     "output_type": "stream",
     "text": [
      "128\n",
      "Tests Passed\n"
     ]
    }
   ],
   "source": [
    "def output(x_tensor, num_outputs):\n",
    "    \"\"\"\n",
    "    Apply a output layer to x_tensor using weight and bias\n",
    "    : x_tensor: A 2-D tensor where the first dimension is batch size.\n",
    "    : num_outputs: The number of output that the new tensor should be.\n",
    "    : return: A 2-D tensor where the second dimension is num_outputs.\n",
    "    \"\"\"\n",
    "    # TODO: Implement Function\n",
    "        \n",
    "    F_W = tf.Variable(tf.truncated_normal(stddev=0.1,shape=(x_tensor.get_shape().as_list()[1], num_outputs)))\n",
    "    F_b = tf.Variable(tf.zeros(num_outputs))\n",
    "\n",
    "    print(x_tensor.get_shape().as_list()[1])\n",
    "    fc = tf.add(tf.matmul(x_tensor, F_W), F_b)    \n",
    "    \n",
    "    return fc\n",
    "\n",
    "\n",
    "\"\"\"\n",
    "DON'T MODIFY ANYTHING IN THIS CELL THAT IS BELOW THIS LINE\n",
    "\"\"\"\n",
    "tests.test_output(output)"
   ]
  },
  {
   "cell_type": "markdown",
   "metadata": {
    "deletable": true,
    "editable": true
   },
   "source": [
    "### Create Convolutional Model\n",
    "Implement the function `conv_net` to create a convolutional neural network model. The function takes in a batch of images, `x`, and outputs logits.  Use the layers you created above to create this model:\n",
    "\n",
    "* Apply 1, 2, or 3 Convolution and Max Pool layers\n",
    "* Apply a Flatten Layer\n",
    "* Apply 1, 2, or 3 Fully Connected Layers\n",
    "* Apply an Output Layer\n",
    "* Return the output\n",
    "* Apply [TensorFlow's Dropout](https://www.tensorflow.org/api_docs/python/tf/nn/dropout) to one or more layers in the model using `keep_prob`. "
   ]
  },
  {
   "cell_type": "code",
   "execution_count": 14,
   "metadata": {
    "collapsed": false,
    "deletable": true,
    "editable": true
   },
   "outputs": [
    {
     "name": "stdout",
     "output_type": "stream",
     "text": [
      "128\n",
      "128\n",
      "Neural Network Built!\n"
     ]
    }
   ],
   "source": [
    "def conv_net(x, keep_prob):\n",
    "    \"\"\"\n",
    "    Create a convolutional neural network model\n",
    "    : x: Placeholder tensor that holds image data.\n",
    "    : keep_prob: Placeholder tensor that hold dropout keep probability.\n",
    "    : return: Tensor that represents logits\n",
    "    \"\"\"\n",
    "    # TODO: Apply 1, 2, or 3 Convolution and Max Pool layers\n",
    "    #    Play around with different number of outputs, kernel size and stride\n",
    "    # Function Definition from Above:\n",
    "    #    conv2d_maxpool(x_tensor, conv_num_outputs, conv_ksize, conv_strides, pool_ksize, pool_strides)\n",
    "    \n",
    "\n",
    "    \n",
    "    #rever esses valores!!\n",
    "    conv1 = conv2d_maxpool(x,32,[3,3],[1,1],[2,2],[2,2])\n",
    "    conv2 = conv2d_maxpool(conv1,64,[3,3],[2,2],[2,2],[2,2])\n",
    "    \n",
    "\n",
    "    # TODO: Apply a Flatten Layer\n",
    "    # Function Definition from Above:\n",
    "    #   flatten(x_tensor)\n",
    "    \n",
    "    flat = flatten(conv2)\n",
    "\n",
    "    # TODO: Apply 1, 2, or 3 Fully Connected Layers\n",
    "    #    Play around with different number of outputs\n",
    "    # Function Definition from Above:\n",
    "    #   fully_conn(x_tensor, num_outputs)\n",
    "    \n",
    "    fully = fully_conn(flat, 128)\n",
    "    fully = tf.nn.dropout(fully, keep_prob)\n",
    "    fully = fully_conn(fully, 128)\n",
    "    fully = tf.nn.dropout(fully, keep_prob)\n",
    "\n",
    "    \n",
    "    # TODO: Apply an Output Layer\n",
    "    #    Set this to the number of classes\n",
    "    # Function Definition from Above:\n",
    "    #   output(x_tensor, num_outputs)\n",
    "    \n",
    "    outconv = output(fully, 10)\n",
    "    \n",
    "    # TODO: return output\n",
    "    return outconv\n",
    "\n",
    "\n",
    "\"\"\"\n",
    "DON'T MODIFY ANYTHING IN THIS CELL THAT IS BELOW THIS LINE\n",
    "\"\"\"\n",
    "\n",
    "##############################\n",
    "## Build the Neural Network ##\n",
    "##############################\n",
    "\n",
    "# Remove previous weights, bias, inputs, etc..\n",
    "tf.reset_default_graph()\n",
    "\n",
    "# Inputs\n",
    "x = neural_net_image_input((32, 32, 3))\n",
    "y = neural_net_label_input(10)\n",
    "keep_prob = neural_net_keep_prob_input()\n",
    "\n",
    "# Model\n",
    "logits = conv_net(x, keep_prob)\n",
    "\n",
    "# Name logits Tensor, so that is can be loaded from disk after training\n",
    "logits = tf.identity(logits, name='logits')\n",
    "\n",
    "# Loss and Optimizer\n",
    "cost = tf.reduce_mean(tf.nn.softmax_cross_entropy_with_logits(logits=logits, labels=y))\n",
    "optimizer = tf.train.AdamOptimizer().minimize(cost)\n",
    "\n",
    "# Accuracy\n",
    "correct_pred = tf.equal(tf.argmax(logits, 1), tf.argmax(y, 1))\n",
    "accuracy = tf.reduce_mean(tf.cast(correct_pred, tf.float32), name='accuracy')\n",
    "\n",
    "tests.test_conv_net(conv_net)"
   ]
  },
  {
   "cell_type": "markdown",
   "metadata": {
    "deletable": true,
    "editable": true
   },
   "source": [
    "## Train the Neural Network\n",
    "### Single Optimization\n",
    "Implement the function `train_neural_network` to do a single optimization.  The optimization should use `optimizer` to optimize in `session` with a `feed_dict` of the following:\n",
    "* `x` for image input\n",
    "* `y` for labels\n",
    "* `keep_prob` for keep probability for dropout\n",
    "\n",
    "This function will be called for each batch, so `tf.global_variables_initializer()` has already been called.\n",
    "\n",
    "Note: Nothing needs to be returned. This function is only optimizing the neural network."
   ]
  },
  {
   "cell_type": "code",
   "execution_count": 15,
   "metadata": {
    "collapsed": false,
    "deletable": true,
    "editable": true
   },
   "outputs": [
    {
     "name": "stdout",
     "output_type": "stream",
     "text": [
      "Tests Passed\n"
     ]
    }
   ],
   "source": [
    "def train_neural_network(session, optimizer, keep_probability, feature_batch, label_batch):\n",
    "    \"\"\"\n",
    "    Optimize the session on a batch of images and labels\n",
    "    : session: Current TensorFlow session\n",
    "    : optimizer: TensorFlow optimizer function\n",
    "    : keep_probability: keep probability\n",
    "    : feature_batch: Batch of Numpy image data\n",
    "    : label_batch: Batch of Numpy label data\n",
    "    \"\"\"\n",
    "    # TODO: Implement Function\n",
    "    \n",
    "    global out \n",
    "    out = feature_batch\n",
    "    \n",
    "   \n",
    "    batch_x = feature_batch\n",
    "    batch_y = label_batch\n",
    "    session.run(optimizer, feed_dict={\n",
    "        x: batch_x,\n",
    "        y: batch_y,\n",
    "        keep_prob: keep_probability})\n",
    "\n",
    "\n",
    "\n",
    "\"\"\"\n",
    "DON'T MODIFY ANYTHING IN THIS CELL THAT IS BELOW THIS LINE\n",
    "\"\"\"\n",
    "tests.test_train_nn(train_neural_network)"
   ]
  },
  {
   "cell_type": "markdown",
   "metadata": {
    "deletable": true,
    "editable": true
   },
   "source": [
    "### Show Stats\n",
    "Implement the function `print_stats` to print loss and validation accuracy.  Use the global variables `valid_features` and `valid_labels` to calculate validation accuracy.  Use a keep probability of `1.0` to calculate the loss and validation accuracy."
   ]
  },
  {
   "cell_type": "code",
   "execution_count": 16,
   "metadata": {
    "collapsed": false,
    "deletable": true,
    "editable": true
   },
   "outputs": [],
   "source": [
    "def print_stats(session, feature_batch, label_batch, cost, accuracy):\n",
    "    \"\"\"\n",
    "    Print information about loss and validation accuracy\n",
    "    : session: Current TensorFlow session\n",
    "    : feature_batch: Batch of Numpy image data\n",
    "    : label_batch: Batch of Numpy label data\n",
    "    : cost: TensorFlow cost function\n",
    "    : accuracy: TensorFlow accuracy function\n",
    "    \"\"\"\n",
    "  \n",
    "    batch_x = feature_batch\n",
    "    batch_y = label_batch\n",
    "\n",
    "\n",
    "    loss = session.run(cost, feed_dict={\n",
    "        x: batch_x,\n",
    "        y: batch_y,\n",
    "        keep_prob: 1.})\n",
    "\n",
    "    valid_acc = session.run(accuracy, feed_dict={\n",
    "        x: valid_features,\n",
    "        y: valid_labels,\n",
    "        keep_prob: 1.})\n",
    "        \n",
    "    print('Loss: {:>10.4f} Validation Accuracy: {:.6f}'.format(loss,valid_acc))\n",
    "\n",
    "    # TODO: Implement Function\n"
   ]
  },
  {
   "cell_type": "markdown",
   "metadata": {
    "deletable": true,
    "editable": true
   },
   "source": [
    "### Hyperparameters\n",
    "Tune the following parameters:\n",
    "* Set `epochs` to the number of iterations until the network stops learning or start overfitting\n",
    "* Set `batch_size` to the highest number that your machine has memory for.  Most people set them to common sizes of memory:\n",
    " * 64\n",
    " * 128\n",
    " * 256\n",
    " * ...\n",
    "* Set `keep_probability` to the probability of keeping a node using dropout"
   ]
  },
  {
   "cell_type": "code",
   "execution_count": 19,
   "metadata": {
    "collapsed": true,
    "deletable": true,
    "editable": true
   },
   "outputs": [],
   "source": [
    "# TODO: Tune Parameters\n",
    "epochs = 50\n",
    "batch_size = 256\n",
    "keep_probability = 0.75"
   ]
  },
  {
   "cell_type": "markdown",
   "metadata": {
    "deletable": true,
    "editable": true
   },
   "source": [
    "### Train on a Single CIFAR-10 Batch\n",
    "Instead of training the neural network on all the CIFAR-10 batches of data, let's use a single batch. This should save time while you iterate on the model to get a better accuracy.  Once the final validation accuracy is 50% or greater, run the model on all the data in the next section."
   ]
  },
  {
   "cell_type": "code",
   "execution_count": 20,
   "metadata": {
    "collapsed": false,
    "deletable": true,
    "editable": true
   },
   "outputs": [
    {
     "name": "stdout",
     "output_type": "stream",
     "text": [
      "Checking the Training on a Single Batch...\n",
      "Epoch  1, CIFAR-10 Batch 1:  Loss:     2.1248 Validation Accuracy: 0.253400\n",
      "Epoch  2, CIFAR-10 Batch 1:  Loss:     1.9032 Validation Accuracy: 0.348200\n",
      "Epoch  3, CIFAR-10 Batch 1:  Loss:     1.7079 Validation Accuracy: 0.401800\n",
      "Epoch  4, CIFAR-10 Batch 1:  Loss:     1.5169 Validation Accuracy: 0.436000\n",
      "Epoch  5, CIFAR-10 Batch 1:  Loss:     1.3509 Validation Accuracy: 0.465600\n",
      "Epoch  6, CIFAR-10 Batch 1:  Loss:     1.1698 Validation Accuracy: 0.493800\n",
      "Epoch  7, CIFAR-10 Batch 1:  Loss:     1.0180 Validation Accuracy: 0.494000\n",
      "Epoch  8, CIFAR-10 Batch 1:  Loss:     0.9009 Validation Accuracy: 0.498000\n",
      "Epoch  9, CIFAR-10 Batch 1:  Loss:     0.7866 Validation Accuracy: 0.529200\n",
      "Epoch 10, CIFAR-10 Batch 1:  Loss:     0.7145 Validation Accuracy: 0.537800\n",
      "Epoch 11, CIFAR-10 Batch 1:  Loss:     0.6210 Validation Accuracy: 0.545400\n",
      "Epoch 12, CIFAR-10 Batch 1:  Loss:     0.5791 Validation Accuracy: 0.551400\n",
      "Epoch 13, CIFAR-10 Batch 1:  Loss:     0.5057 Validation Accuracy: 0.562400\n",
      "Epoch 14, CIFAR-10 Batch 1:  Loss:     0.4626 Validation Accuracy: 0.563600\n",
      "Epoch 15, CIFAR-10 Batch 1:  Loss:     0.3863 Validation Accuracy: 0.571800\n",
      "Epoch 16, CIFAR-10 Batch 1:  Loss:     0.3743 Validation Accuracy: 0.571000\n",
      "Epoch 17, CIFAR-10 Batch 1:  Loss:     0.3026 Validation Accuracy: 0.573200\n",
      "Epoch 18, CIFAR-10 Batch 1:  Loss:     0.2618 Validation Accuracy: 0.572200\n",
      "Epoch 19, CIFAR-10 Batch 1:  Loss:     0.2168 Validation Accuracy: 0.585800\n",
      "Epoch 20, CIFAR-10 Batch 1:  Loss:     0.2129 Validation Accuracy: 0.577000\n",
      "Epoch 21, CIFAR-10 Batch 1:  Loss:     0.1965 Validation Accuracy: 0.583200\n",
      "Epoch 22, CIFAR-10 Batch 1:  Loss:     0.1456 Validation Accuracy: 0.588000\n",
      "Epoch 23, CIFAR-10 Batch 1:  Loss:     0.1417 Validation Accuracy: 0.591200\n",
      "Epoch 24, CIFAR-10 Batch 1:  Loss:     0.1342 Validation Accuracy: 0.592000\n",
      "Epoch 25, CIFAR-10 Batch 1:  Loss:     0.1442 Validation Accuracy: 0.563400\n",
      "Epoch 26, CIFAR-10 Batch 1:  Loss:     0.1097 Validation Accuracy: 0.559600\n",
      "Epoch 27, CIFAR-10 Batch 1:  Loss:     0.1000 Validation Accuracy: 0.588400\n",
      "Epoch 28, CIFAR-10 Batch 1:  Loss:     0.1282 Validation Accuracy: 0.563200\n",
      "Epoch 29, CIFAR-10 Batch 1:  Loss:     0.1050 Validation Accuracy: 0.588800\n",
      "Epoch 30, CIFAR-10 Batch 1:  Loss:     0.0782 Validation Accuracy: 0.582400\n",
      "Epoch 31, CIFAR-10 Batch 1:  Loss:     0.0663 Validation Accuracy: 0.576600\n",
      "Epoch 32, CIFAR-10 Batch 1:  Loss:     0.0632 Validation Accuracy: 0.578600\n",
      "Epoch 33, CIFAR-10 Batch 1:  Loss:     0.0548 Validation Accuracy: 0.586200\n",
      "Epoch 34, CIFAR-10 Batch 1:  Loss:     0.0462 Validation Accuracy: 0.581600\n",
      "Epoch 35, CIFAR-10 Batch 1:  Loss:     0.0477 Validation Accuracy: 0.583000\n",
      "Epoch 36, CIFAR-10 Batch 1:  Loss:     0.0435 Validation Accuracy: 0.583600\n",
      "Epoch 37, CIFAR-10 Batch 1:  Loss:     0.0452 Validation Accuracy: 0.571000\n",
      "Epoch 38, CIFAR-10 Batch 1:  Loss:     0.0363 Validation Accuracy: 0.581800\n",
      "Epoch 39, CIFAR-10 Batch 1:  Loss:     0.0333 Validation Accuracy: 0.576600\n",
      "Epoch 40, CIFAR-10 Batch 1:  Loss:     0.0331 Validation Accuracy: 0.571800\n",
      "Epoch 41, CIFAR-10 Batch 1:  Loss:     0.0351 Validation Accuracy: 0.567800\n",
      "Epoch 42, CIFAR-10 Batch 1:  Loss:     0.0181 Validation Accuracy: 0.579800\n",
      "Epoch 43, CIFAR-10 Batch 1:  Loss:     0.0198 Validation Accuracy: 0.600800\n",
      "Epoch 44, CIFAR-10 Batch 1:  Loss:     0.0300 Validation Accuracy: 0.579600\n",
      "Epoch 45, CIFAR-10 Batch 1:  Loss:     0.0145 Validation Accuracy: 0.593200\n",
      "Epoch 46, CIFAR-10 Batch 1:  Loss:     0.0136 Validation Accuracy: 0.589000\n",
      "Epoch 47, CIFAR-10 Batch 1:  Loss:     0.0138 Validation Accuracy: 0.586400\n",
      "Epoch 48, CIFAR-10 Batch 1:  Loss:     0.0159 Validation Accuracy: 0.585000\n",
      "Epoch 49, CIFAR-10 Batch 1:  Loss:     0.0109 Validation Accuracy: 0.592200\n",
      "Epoch 50, CIFAR-10 Batch 1:  Loss:     0.0118 Validation Accuracy: 0.584200\n"
     ]
    }
   ],
   "source": [
    "\"\"\"\n",
    "DON'T MODIFY ANYTHING IN THIS CELL\n",
    "\"\"\"\n",
    "print('Checking the Training on a Single Batch...')\n",
    "with tf.Session() as sess:\n",
    "    # Initializing the variables\n",
    "    sess.run(tf.global_variables_initializer())\n",
    "    \n",
    "    # Training cycle\n",
    "    for epoch in range(epochs):\n",
    "        batch_i = 1\n",
    "        for batch_features, batch_labels in helper.load_preprocess_training_batch(batch_i, batch_size):           \n",
    "            train_neural_network(sess, optimizer, keep_probability, batch_features, batch_labels)\n",
    "        print('Epoch {:>2}, CIFAR-10 Batch {}:  '.format(epoch + 1, batch_i), end='')\n",
    "        print_stats(sess, batch_features, batch_labels, cost, accuracy)"
   ]
  },
  {
   "cell_type": "code",
   "execution_count": null,
   "metadata": {
    "collapsed": false
   },
   "outputs": [],
   "source": []
  },
  {
   "cell_type": "markdown",
   "metadata": {
    "deletable": true,
    "editable": true
   },
   "source": [
    "### Fully Train the Model\n",
    "Now that you got a good accuracy with a single CIFAR-10 batch, try it with all five batches."
   ]
  },
  {
   "cell_type": "code",
   "execution_count": 21,
   "metadata": {
    "collapsed": false,
    "deletable": true,
    "editable": true
   },
   "outputs": [
    {
     "name": "stdout",
     "output_type": "stream",
     "text": [
      "Training...\n",
      "Epoch  1, CIFAR-10 Batch 1:  Loss:     2.0398 Validation Accuracy: 0.288800\n",
      "Epoch  1, CIFAR-10 Batch 2:  Loss:     1.7822 Validation Accuracy: 0.350400\n",
      "Epoch  1, CIFAR-10 Batch 3:  Loss:     1.7223 Validation Accuracy: 0.378400\n",
      "Epoch  1, CIFAR-10 Batch 4:  Loss:     1.5531 Validation Accuracy: 0.449600\n",
      "Epoch  1, CIFAR-10 Batch 5:  Loss:     1.5049 Validation Accuracy: 0.457200\n",
      "Epoch  2, CIFAR-10 Batch 1:  Loss:     1.5509 Validation Accuracy: 0.481600\n",
      "Epoch  2, CIFAR-10 Batch 2:  Loss:     1.2945 Validation Accuracy: 0.497600\n",
      "Epoch  2, CIFAR-10 Batch 3:  Loss:     1.1984 Validation Accuracy: 0.483400\n",
      "Epoch  2, CIFAR-10 Batch 4:  Loss:     1.2001 Validation Accuracy: 0.517600\n",
      "Epoch  2, CIFAR-10 Batch 5:  Loss:     1.2652 Validation Accuracy: 0.527000\n",
      "Epoch  3, CIFAR-10 Batch 1:  Loss:     1.2578 Validation Accuracy: 0.544000\n",
      "Epoch  3, CIFAR-10 Batch 2:  Loss:     1.0342 Validation Accuracy: 0.539000\n",
      "Epoch  3, CIFAR-10 Batch 3:  Loss:     1.0275 Validation Accuracy: 0.549800\n",
      "Epoch  3, CIFAR-10 Batch 4:  Loss:     1.0743 Validation Accuracy: 0.563000\n",
      "Epoch  3, CIFAR-10 Batch 5:  Loss:     1.0242 Validation Accuracy: 0.562200\n",
      "Epoch  4, CIFAR-10 Batch 1:  Loss:     1.0337 Validation Accuracy: 0.566600\n",
      "Epoch  4, CIFAR-10 Batch 2:  Loss:     0.8341 Validation Accuracy: 0.567600\n",
      "Epoch  4, CIFAR-10 Batch 3:  Loss:     0.8693 Validation Accuracy: 0.572000\n",
      "Epoch  4, CIFAR-10 Batch 4:  Loss:     0.9072 Validation Accuracy: 0.595000\n",
      "Epoch  4, CIFAR-10 Batch 5:  Loss:     0.8875 Validation Accuracy: 0.583600\n",
      "Epoch  5, CIFAR-10 Batch 1:  Loss:     0.9110 Validation Accuracy: 0.595200\n",
      "Epoch  5, CIFAR-10 Batch 2:  Loss:     0.7435 Validation Accuracy: 0.592200\n",
      "Epoch  5, CIFAR-10 Batch 3:  Loss:     0.7697 Validation Accuracy: 0.592400\n",
      "Epoch  5, CIFAR-10 Batch 4:  Loss:     0.8148 Validation Accuracy: 0.613000\n",
      "Epoch  5, CIFAR-10 Batch 5:  Loss:     0.7790 Validation Accuracy: 0.592200\n",
      "Epoch  6, CIFAR-10 Batch 1:  Loss:     0.8053 Validation Accuracy: 0.613600\n",
      "Epoch  6, CIFAR-10 Batch 2:  Loss:     0.6273 Validation Accuracy: 0.608000\n",
      "Epoch  6, CIFAR-10 Batch 3:  Loss:     0.6355 Validation Accuracy: 0.603400\n",
      "Epoch  6, CIFAR-10 Batch 4:  Loss:     0.7124 Validation Accuracy: 0.627600\n",
      "Epoch  6, CIFAR-10 Batch 5:  Loss:     0.6587 Validation Accuracy: 0.619200\n",
      "Epoch  7, CIFAR-10 Batch 1:  Loss:     0.6634 Validation Accuracy: 0.628800\n",
      "Epoch  7, CIFAR-10 Batch 2:  Loss:     0.5995 Validation Accuracy: 0.608600\n",
      "Epoch  7, CIFAR-10 Batch 3:  Loss:     0.5539 Validation Accuracy: 0.633600\n",
      "Epoch  7, CIFAR-10 Batch 4:  Loss:     0.6338 Validation Accuracy: 0.634800\n",
      "Epoch  7, CIFAR-10 Batch 5:  Loss:     0.5665 Validation Accuracy: 0.641000\n",
      "Epoch  8, CIFAR-10 Batch 1:  Loss:     0.6312 Validation Accuracy: 0.639200\n",
      "Epoch  8, CIFAR-10 Batch 2:  Loss:     0.4793 Validation Accuracy: 0.632400\n",
      "Epoch  8, CIFAR-10 Batch 3:  Loss:     0.4608 Validation Accuracy: 0.634200\n",
      "Epoch  8, CIFAR-10 Batch 4:  Loss:     0.5486 Validation Accuracy: 0.641600\n",
      "Epoch  8, CIFAR-10 Batch 5:  Loss:     0.4660 Validation Accuracy: 0.646400\n",
      "Epoch  9, CIFAR-10 Batch 1:  Loss:     0.5424 Validation Accuracy: 0.650200\n",
      "Epoch  9, CIFAR-10 Batch 2:  Loss:     0.4180 Validation Accuracy: 0.640400\n",
      "Epoch  9, CIFAR-10 Batch 3:  Loss:     0.4137 Validation Accuracy: 0.643800\n",
      "Epoch  9, CIFAR-10 Batch 4:  Loss:     0.4685 Validation Accuracy: 0.654600\n",
      "Epoch  9, CIFAR-10 Batch 5:  Loss:     0.4085 Validation Accuracy: 0.652800\n",
      "Epoch 10, CIFAR-10 Batch 1:  Loss:     0.4849 Validation Accuracy: 0.661000\n",
      "Epoch 10, CIFAR-10 Batch 2:  Loss:     0.3340 Validation Accuracy: 0.651000\n",
      "Epoch 10, CIFAR-10 Batch 3:  Loss:     0.4158 Validation Accuracy: 0.643200\n",
      "Epoch 10, CIFAR-10 Batch 4:  Loss:     0.4417 Validation Accuracy: 0.659800\n",
      "Epoch 10, CIFAR-10 Batch 5:  Loss:     0.3716 Validation Accuracy: 0.652800\n",
      "Epoch 11, CIFAR-10 Batch 1:  Loss:     0.4310 Validation Accuracy: 0.662400\n",
      "Epoch 11, CIFAR-10 Batch 2:  Loss:     0.3499 Validation Accuracy: 0.654800\n",
      "Epoch 11, CIFAR-10 Batch 3:  Loss:     0.3461 Validation Accuracy: 0.639000\n",
      "Epoch 11, CIFAR-10 Batch 4:  Loss:     0.4255 Validation Accuracy: 0.659200\n",
      "Epoch 11, CIFAR-10 Batch 5:  Loss:     0.3106 Validation Accuracy: 0.665000\n",
      "Epoch 12, CIFAR-10 Batch 1:  Loss:     0.3859 Validation Accuracy: 0.659800\n",
      "Epoch 12, CIFAR-10 Batch 2:  Loss:     0.3090 Validation Accuracy: 0.661200\n",
      "Epoch 12, CIFAR-10 Batch 3:  Loss:     0.3117 Validation Accuracy: 0.639600\n",
      "Epoch 12, CIFAR-10 Batch 4:  Loss:     0.3231 Validation Accuracy: 0.668400\n",
      "Epoch 12, CIFAR-10 Batch 5:  Loss:     0.2895 Validation Accuracy: 0.653400\n",
      "Epoch 13, CIFAR-10 Batch 1:  Loss:     0.3372 Validation Accuracy: 0.640200\n",
      "Epoch 13, CIFAR-10 Batch 2:  Loss:     0.2948 Validation Accuracy: 0.650600\n",
      "Epoch 13, CIFAR-10 Batch 3:  Loss:     0.2627 Validation Accuracy: 0.653000\n",
      "Epoch 13, CIFAR-10 Batch 4:  Loss:     0.2806 Validation Accuracy: 0.673200\n",
      "Epoch 13, CIFAR-10 Batch 5:  Loss:     0.2307 Validation Accuracy: 0.672600\n",
      "Epoch 14, CIFAR-10 Batch 1:  Loss:     0.3071 Validation Accuracy: 0.648200\n",
      "Epoch 14, CIFAR-10 Batch 2:  Loss:     0.2287 Validation Accuracy: 0.660800\n",
      "Epoch 14, CIFAR-10 Batch 3:  Loss:     0.2642 Validation Accuracy: 0.654400\n",
      "Epoch 14, CIFAR-10 Batch 4:  Loss:     0.2765 Validation Accuracy: 0.675400\n",
      "Epoch 14, CIFAR-10 Batch 5:  Loss:     0.2218 Validation Accuracy: 0.676400\n",
      "Epoch 15, CIFAR-10 Batch 1:  Loss:     0.2940 Validation Accuracy: 0.653200\n",
      "Epoch 15, CIFAR-10 Batch 2:  Loss:     0.1989 Validation Accuracy: 0.665200\n",
      "Epoch 15, CIFAR-10 Batch 3:  Loss:     0.1962 Validation Accuracy: 0.664000\n",
      "Epoch 15, CIFAR-10 Batch 4:  Loss:     0.2364 Validation Accuracy: 0.669200\n",
      "Epoch 15, CIFAR-10 Batch 5:  Loss:     0.1904 Validation Accuracy: 0.667800\n",
      "Epoch 16, CIFAR-10 Batch 1:  Loss:     0.2719 Validation Accuracy: 0.658800\n",
      "Epoch 16, CIFAR-10 Batch 2:  Loss:     0.1841 Validation Accuracy: 0.664200\n",
      "Epoch 16, CIFAR-10 Batch 3:  Loss:     0.1857 Validation Accuracy: 0.664600\n",
      "Epoch 16, CIFAR-10 Batch 4:  Loss:     0.2382 Validation Accuracy: 0.669800\n",
      "Epoch 16, CIFAR-10 Batch 5:  Loss:     0.1759 Validation Accuracy: 0.673400\n",
      "Epoch 17, CIFAR-10 Batch 1:  Loss:     0.2232 Validation Accuracy: 0.667000\n",
      "Epoch 17, CIFAR-10 Batch 2:  Loss:     0.1821 Validation Accuracy: 0.666200\n",
      "Epoch 17, CIFAR-10 Batch 3:  Loss:     0.1756 Validation Accuracy: 0.669400\n",
      "Epoch 17, CIFAR-10 Batch 4:  Loss:     0.1933 Validation Accuracy: 0.677400\n",
      "Epoch 17, CIFAR-10 Batch 5:  Loss:     0.1569 Validation Accuracy: 0.675200\n",
      "Epoch 18, CIFAR-10 Batch 1:  Loss:     0.1917 Validation Accuracy: 0.658000\n",
      "Epoch 18, CIFAR-10 Batch 2:  Loss:     0.1882 Validation Accuracy: 0.649400\n",
      "Epoch 18, CIFAR-10 Batch 3:  Loss:     0.1974 Validation Accuracy: 0.673400\n",
      "Epoch 18, CIFAR-10 Batch 4:  Loss:     0.1783 Validation Accuracy: 0.675200\n",
      "Epoch 18, CIFAR-10 Batch 5:  Loss:     0.1386 Validation Accuracy: 0.678400\n",
      "Epoch 19, CIFAR-10 Batch 1:  Loss:     0.1887 Validation Accuracy: 0.670600\n",
      "Epoch 19, CIFAR-10 Batch 2:  Loss:     0.1427 Validation Accuracy: 0.665400\n",
      "Epoch 19, CIFAR-10 Batch 3:  Loss:     0.1507 Validation Accuracy: 0.672600\n",
      "Epoch 19, CIFAR-10 Batch 4:  Loss:     0.1618 Validation Accuracy: 0.681400\n",
      "Epoch 19, CIFAR-10 Batch 5:  Loss:     0.1197 Validation Accuracy: 0.684000\n",
      "Epoch 20, CIFAR-10 Batch 1:  Loss:     0.1668 Validation Accuracy: 0.670000\n",
      "Epoch 20, CIFAR-10 Batch 2:  Loss:     0.1203 Validation Accuracy: 0.672000\n",
      "Epoch 20, CIFAR-10 Batch 3:  Loss:     0.1420 Validation Accuracy: 0.681000\n",
      "Epoch 20, CIFAR-10 Batch 4:  Loss:     0.1456 Validation Accuracy: 0.686600\n",
      "Epoch 20, CIFAR-10 Batch 5:  Loss:     0.1197 Validation Accuracy: 0.688000\n",
      "Epoch 21, CIFAR-10 Batch 1:  Loss:     0.1477 Validation Accuracy: 0.668400\n",
      "Epoch 21, CIFAR-10 Batch 2:  Loss:     0.1226 Validation Accuracy: 0.661600\n",
      "Epoch 21, CIFAR-10 Batch 3:  Loss:     0.1316 Validation Accuracy: 0.670600\n",
      "Epoch 21, CIFAR-10 Batch 4:  Loss:     0.1379 Validation Accuracy: 0.679200\n",
      "Epoch 21, CIFAR-10 Batch 5:  Loss:     0.1134 Validation Accuracy: 0.680800\n",
      "Epoch 22, CIFAR-10 Batch 1:  Loss:     0.1547 Validation Accuracy: 0.655000\n",
      "Epoch 22, CIFAR-10 Batch 2:  Loss:     0.1154 Validation Accuracy: 0.674600\n",
      "Epoch 22, CIFAR-10 Batch 3:  Loss:     0.1318 Validation Accuracy: 0.670000\n",
      "Epoch 22, CIFAR-10 Batch 4:  Loss:     0.1322 Validation Accuracy: 0.682600\n",
      "Epoch 22, CIFAR-10 Batch 5:  Loss:     0.0945 Validation Accuracy: 0.692400\n",
      "Epoch 23, CIFAR-10 Batch 1:  Loss:     0.1371 Validation Accuracy: 0.667400\n",
      "Epoch 23, CIFAR-10 Batch 2:  Loss:     0.0991 Validation Accuracy: 0.660800\n",
      "Epoch 23, CIFAR-10 Batch 3:  Loss:     0.1364 Validation Accuracy: 0.682000\n",
      "Epoch 23, CIFAR-10 Batch 4:  Loss:     0.1201 Validation Accuracy: 0.680200\n",
      "Epoch 23, CIFAR-10 Batch 5:  Loss:     0.0836 Validation Accuracy: 0.687000\n",
      "Epoch 24, CIFAR-10 Batch 1:  Loss:     0.1301 Validation Accuracy: 0.668800\n",
      "Epoch 24, CIFAR-10 Batch 2:  Loss:     0.1025 Validation Accuracy: 0.664400\n",
      "Epoch 24, CIFAR-10 Batch 3:  Loss:     0.1108 Validation Accuracy: 0.683400\n",
      "Epoch 24, CIFAR-10 Batch 4:  Loss:     0.1133 Validation Accuracy: 0.684800\n",
      "Epoch 24, CIFAR-10 Batch 5:  Loss:     0.0974 Validation Accuracy: 0.673600\n",
      "Epoch 25, CIFAR-10 Batch 1:  Loss:     0.1273 Validation Accuracy: 0.673800\n",
      "Epoch 25, CIFAR-10 Batch 2:  Loss:     0.0950 Validation Accuracy: 0.664800\n",
      "Epoch 25, CIFAR-10 Batch 3:  Loss:     0.1059 Validation Accuracy: 0.676600\n",
      "Epoch 25, CIFAR-10 Batch 4:  Loss:     0.1297 Validation Accuracy: 0.676000\n",
      "Epoch 25, CIFAR-10 Batch 5:  Loss:     0.0900 Validation Accuracy: 0.683400\n",
      "Epoch 26, CIFAR-10 Batch 1:  Loss:     0.1429 Validation Accuracy: 0.672000\n",
      "Epoch 26, CIFAR-10 Batch 2:  Loss:     0.0914 Validation Accuracy: 0.649800\n",
      "Epoch 26, CIFAR-10 Batch 3:  Loss:     0.1086 Validation Accuracy: 0.671600\n",
      "Epoch 26, CIFAR-10 Batch 4:  Loss:     0.0947 Validation Accuracy: 0.683200\n",
      "Epoch 26, CIFAR-10 Batch 5:  Loss:     0.0713 Validation Accuracy: 0.678200\n",
      "Epoch 27, CIFAR-10 Batch 1:  Loss:     0.1689 Validation Accuracy: 0.656400\n",
      "Epoch 27, CIFAR-10 Batch 2:  Loss:     0.0954 Validation Accuracy: 0.653800\n",
      "Epoch 27, CIFAR-10 Batch 3:  Loss:     0.1081 Validation Accuracy: 0.671000\n",
      "Epoch 27, CIFAR-10 Batch 4:  Loss:     0.0768 Validation Accuracy: 0.689800\n",
      "Epoch 27, CIFAR-10 Batch 5:  Loss:     0.0763 Validation Accuracy: 0.679400\n",
      "Epoch 28, CIFAR-10 Batch 1:  Loss:     0.1247 Validation Accuracy: 0.653600\n",
      "Epoch 28, CIFAR-10 Batch 2:  Loss:     0.0873 Validation Accuracy: 0.666000\n",
      "Epoch 28, CIFAR-10 Batch 3:  Loss:     0.1275 Validation Accuracy: 0.672000\n",
      "Epoch 28, CIFAR-10 Batch 4:  Loss:     0.0839 Validation Accuracy: 0.675800\n",
      "Epoch 28, CIFAR-10 Batch 5:  Loss:     0.0632 Validation Accuracy: 0.686000\n",
      "Epoch 29, CIFAR-10 Batch 1:  Loss:     0.0907 Validation Accuracy: 0.658000\n",
      "Epoch 29, CIFAR-10 Batch 2:  Loss:     0.0732 Validation Accuracy: 0.671200\n",
      "Epoch 29, CIFAR-10 Batch 3:  Loss:     0.0996 Validation Accuracy: 0.676000\n",
      "Epoch 29, CIFAR-10 Batch 4:  Loss:     0.1020 Validation Accuracy: 0.674400\n",
      "Epoch 29, CIFAR-10 Batch 5:  Loss:     0.0666 Validation Accuracy: 0.681000\n",
      "Epoch 30, CIFAR-10 Batch 1:  Loss:     0.0952 Validation Accuracy: 0.673200\n",
      "Epoch 30, CIFAR-10 Batch 2:  Loss:     0.0841 Validation Accuracy: 0.677400\n",
      "Epoch 30, CIFAR-10 Batch 3:  Loss:     0.0815 Validation Accuracy: 0.679800\n",
      "Epoch 30, CIFAR-10 Batch 4:  Loss:     0.0854 Validation Accuracy: 0.681600\n",
      "Epoch 30, CIFAR-10 Batch 5:  Loss:     0.0678 Validation Accuracy: 0.675800\n",
      "Epoch 31, CIFAR-10 Batch 1:  Loss:     0.1084 Validation Accuracy: 0.674400\n",
      "Epoch 31, CIFAR-10 Batch 2:  Loss:     0.0837 Validation Accuracy: 0.673400\n",
      "Epoch 31, CIFAR-10 Batch 3:  Loss:     0.0813 Validation Accuracy: 0.684200\n",
      "Epoch 31, CIFAR-10 Batch 4:  Loss:     0.0755 Validation Accuracy: 0.680400\n",
      "Epoch 31, CIFAR-10 Batch 5:  Loss:     0.0569 Validation Accuracy: 0.688000\n",
      "Epoch 32, CIFAR-10 Batch 1:  Loss:     0.0921 Validation Accuracy: 0.673000\n",
      "Epoch 32, CIFAR-10 Batch 2:  Loss:     0.0580 Validation Accuracy: 0.678200\n",
      "Epoch 32, CIFAR-10 Batch 3:  Loss:     0.0722 Validation Accuracy: 0.685400\n",
      "Epoch 32, CIFAR-10 Batch 4:  Loss:     0.0896 Validation Accuracy: 0.670600\n",
      "Epoch 32, CIFAR-10 Batch 5:  Loss:     0.0516 Validation Accuracy: 0.690200\n",
      "Epoch 33, CIFAR-10 Batch 1:  Loss:     0.0730 Validation Accuracy: 0.676600\n",
      "Epoch 33, CIFAR-10 Batch 2:  Loss:     0.0717 Validation Accuracy: 0.665000\n",
      "Epoch 33, CIFAR-10 Batch 3:  Loss:     0.0638 Validation Accuracy: 0.683800\n",
      "Epoch 33, CIFAR-10 Batch 4:  Loss:     0.0546 Validation Accuracy: 0.686400\n",
      "Epoch 33, CIFAR-10 Batch 5:  Loss:     0.0539 Validation Accuracy: 0.684000\n",
      "Epoch 34, CIFAR-10 Batch 1:  Loss:     0.0716 Validation Accuracy: 0.669800\n",
      "Epoch 34, CIFAR-10 Batch 2:  Loss:     0.0623 Validation Accuracy: 0.669800\n",
      "Epoch 34, CIFAR-10 Batch 3:  Loss:     0.0598 Validation Accuracy: 0.679600\n",
      "Epoch 34, CIFAR-10 Batch 4:  Loss:     0.0677 Validation Accuracy: 0.672200\n",
      "Epoch 34, CIFAR-10 Batch 5:  Loss:     0.0422 Validation Accuracy: 0.688200\n",
      "Epoch 35, CIFAR-10 Batch 1:  Loss:     0.0692 Validation Accuracy: 0.681800\n",
      "Epoch 35, CIFAR-10 Batch 2:  Loss:     0.0497 Validation Accuracy: 0.667800\n",
      "Epoch 35, CIFAR-10 Batch 3:  Loss:     0.0488 Validation Accuracy: 0.687800\n",
      "Epoch 35, CIFAR-10 Batch 4:  Loss:     0.0508 Validation Accuracy: 0.677400\n",
      "Epoch 35, CIFAR-10 Batch 5:  Loss:     0.0378 Validation Accuracy: 0.685400\n",
      "Epoch 36, CIFAR-10 Batch 1:  Loss:     0.0671 Validation Accuracy: 0.673800\n",
      "Epoch 36, CIFAR-10 Batch 2:  Loss:     0.0476 Validation Accuracy: 0.678400\n",
      "Epoch 36, CIFAR-10 Batch 3:  Loss:     0.0479 Validation Accuracy: 0.686000\n",
      "Epoch 36, CIFAR-10 Batch 4:  Loss:     0.0571 Validation Accuracy: 0.678400\n",
      "Epoch 36, CIFAR-10 Batch 5:  Loss:     0.0381 Validation Accuracy: 0.682600\n",
      "Epoch 37, CIFAR-10 Batch 1:  Loss:     0.0542 Validation Accuracy: 0.681000\n",
      "Epoch 37, CIFAR-10 Batch 2:  Loss:     0.0426 Validation Accuracy: 0.683800\n",
      "Epoch 37, CIFAR-10 Batch 3:  Loss:     0.0529 Validation Accuracy: 0.681400\n",
      "Epoch 37, CIFAR-10 Batch 4:  Loss:     0.0580 Validation Accuracy: 0.679800\n",
      "Epoch 37, CIFAR-10 Batch 5:  Loss:     0.0412 Validation Accuracy: 0.681200\n",
      "Epoch 38, CIFAR-10 Batch 1:  Loss:     0.0397 Validation Accuracy: 0.678800\n",
      "Epoch 38, CIFAR-10 Batch 2:  Loss:     0.0552 Validation Accuracy: 0.671200\n",
      "Epoch 38, CIFAR-10 Batch 3:  Loss:     0.0480 Validation Accuracy: 0.676400\n",
      "Epoch 38, CIFAR-10 Batch 4:  Loss:     0.0466 Validation Accuracy: 0.684800\n",
      "Epoch 38, CIFAR-10 Batch 5:  Loss:     0.0353 Validation Accuracy: 0.686800\n",
      "Epoch 39, CIFAR-10 Batch 1:  Loss:     0.0405 Validation Accuracy: 0.679000\n",
      "Epoch 39, CIFAR-10 Batch 2:  Loss:     0.0461 Validation Accuracy: 0.672200\n",
      "Epoch 39, CIFAR-10 Batch 3:  Loss:     0.0580 Validation Accuracy: 0.675600\n",
      "Epoch 39, CIFAR-10 Batch 4:  Loss:     0.0452 Validation Accuracy: 0.687400\n",
      "Epoch 39, CIFAR-10 Batch 5:  Loss:     0.0343 Validation Accuracy: 0.686800\n",
      "Epoch 40, CIFAR-10 Batch 1:  Loss:     0.0411 Validation Accuracy: 0.687000\n",
      "Epoch 40, CIFAR-10 Batch 2:  Loss:     0.0376 Validation Accuracy: 0.677800\n",
      "Epoch 40, CIFAR-10 Batch 3:  Loss:     0.0395 Validation Accuracy: 0.678600\n",
      "Epoch 40, CIFAR-10 Batch 4:  Loss:     0.0396 Validation Accuracy: 0.683800\n",
      "Epoch 40, CIFAR-10 Batch 5:  Loss:     0.0234 Validation Accuracy: 0.685400\n",
      "Epoch 41, CIFAR-10 Batch 1:  Loss:     0.0459 Validation Accuracy: 0.676400\n",
      "Epoch 41, CIFAR-10 Batch 2:  Loss:     0.0403 Validation Accuracy: 0.675000\n",
      "Epoch 41, CIFAR-10 Batch 3:  Loss:     0.0364 Validation Accuracy: 0.676800\n",
      "Epoch 41, CIFAR-10 Batch 4:  Loss:     0.0356 Validation Accuracy: 0.680200\n",
      "Epoch 41, CIFAR-10 Batch 5:  Loss:     0.0228 Validation Accuracy: 0.690800\n",
      "Epoch 42, CIFAR-10 Batch 1:  Loss:     0.0382 Validation Accuracy: 0.681800\n",
      "Epoch 42, CIFAR-10 Batch 2:  Loss:     0.0420 Validation Accuracy: 0.669800\n",
      "Epoch 42, CIFAR-10 Batch 3:  Loss:     0.0323 Validation Accuracy: 0.673800\n",
      "Epoch 42, CIFAR-10 Batch 4:  Loss:     0.0378 Validation Accuracy: 0.687600\n",
      "Epoch 42, CIFAR-10 Batch 5:  Loss:     0.0260 Validation Accuracy: 0.675000\n",
      "Epoch 43, CIFAR-10 Batch 1:  Loss:     0.0392 Validation Accuracy: 0.691600\n",
      "Epoch 43, CIFAR-10 Batch 2:  Loss:     0.0354 Validation Accuracy: 0.676000\n",
      "Epoch 43, CIFAR-10 Batch 3:  Loss:     0.0352 Validation Accuracy: 0.670400\n",
      "Epoch 43, CIFAR-10 Batch 4:  Loss:     0.0355 Validation Accuracy: 0.682800\n",
      "Epoch 43, CIFAR-10 Batch 5:  Loss:     0.0172 Validation Accuracy: 0.690200\n",
      "Epoch 44, CIFAR-10 Batch 1:  Loss:     0.0387 Validation Accuracy: 0.684400\n",
      "Epoch 44, CIFAR-10 Batch 2:  Loss:     0.0282 Validation Accuracy: 0.673200\n",
      "Epoch 44, CIFAR-10 Batch 3:  Loss:     0.0344 Validation Accuracy: 0.678000\n",
      "Epoch 44, CIFAR-10 Batch 4:  Loss:     0.0345 Validation Accuracy: 0.676000\n",
      "Epoch 44, CIFAR-10 Batch 5:  Loss:     0.0176 Validation Accuracy: 0.689000\n",
      "Epoch 45, CIFAR-10 Batch 1:  Loss:     0.0388 Validation Accuracy: 0.677000\n",
      "Epoch 45, CIFAR-10 Batch 2:  Loss:     0.0250 Validation Accuracy: 0.675600\n",
      "Epoch 45, CIFAR-10 Batch 3:  Loss:     0.0409 Validation Accuracy: 0.681800\n",
      "Epoch 45, CIFAR-10 Batch 4:  Loss:     0.0311 Validation Accuracy: 0.686400\n",
      "Epoch 45, CIFAR-10 Batch 5:  Loss:     0.0219 Validation Accuracy: 0.686600\n",
      "Epoch 46, CIFAR-10 Batch 1:  Loss:     0.0291 Validation Accuracy: 0.688600\n",
      "Epoch 46, CIFAR-10 Batch 2:  Loss:     0.0218 Validation Accuracy: 0.678600\n",
      "Epoch 46, CIFAR-10 Batch 3:  Loss:     0.0278 Validation Accuracy: 0.668200\n",
      "Epoch 46, CIFAR-10 Batch 4:  Loss:     0.0301 Validation Accuracy: 0.685800\n",
      "Epoch 46, CIFAR-10 Batch 5:  Loss:     0.0237 Validation Accuracy: 0.687200\n",
      "Epoch 47, CIFAR-10 Batch 1:  Loss:     0.0291 Validation Accuracy: 0.683600\n",
      "Epoch 47, CIFAR-10 Batch 2:  Loss:     0.0302 Validation Accuracy: 0.670200\n",
      "Epoch 47, CIFAR-10 Batch 3:  Loss:     0.0303 Validation Accuracy: 0.667800\n",
      "Epoch 47, CIFAR-10 Batch 4:  Loss:     0.0267 Validation Accuracy: 0.683000\n",
      "Epoch 47, CIFAR-10 Batch 5:  Loss:     0.0211 Validation Accuracy: 0.692800\n",
      "Epoch 48, CIFAR-10 Batch 1:  Loss:     0.0307 Validation Accuracy: 0.683600\n",
      "Epoch 48, CIFAR-10 Batch 2:  Loss:     0.0235 Validation Accuracy: 0.673200\n",
      "Epoch 48, CIFAR-10 Batch 3:  Loss:     0.0252 Validation Accuracy: 0.672400\n",
      "Epoch 48, CIFAR-10 Batch 4:  Loss:     0.0280 Validation Accuracy: 0.682800\n",
      "Epoch 48, CIFAR-10 Batch 5:  Loss:     0.0200 Validation Accuracy: 0.696400\n",
      "Epoch 49, CIFAR-10 Batch 1:  Loss:     0.0299 Validation Accuracy: 0.678200\n",
      "Epoch 49, CIFAR-10 Batch 2:  Loss:     0.0232 Validation Accuracy: 0.674200\n",
      "Epoch 49, CIFAR-10 Batch 3:  Loss:     0.0262 Validation Accuracy: 0.676000\n",
      "Epoch 49, CIFAR-10 Batch 4:  Loss:     0.0302 Validation Accuracy: 0.681600\n",
      "Epoch 49, CIFAR-10 Batch 5:  Loss:     0.0200 Validation Accuracy: 0.691200\n",
      "Epoch 50, CIFAR-10 Batch 1:  Loss:     0.0294 Validation Accuracy: 0.677400\n",
      "Epoch 50, CIFAR-10 Batch 2:  Loss:     0.0399 Validation Accuracy: 0.668000\n",
      "Epoch 50, CIFAR-10 Batch 3:  Loss:     0.0207 Validation Accuracy: 0.670000\n",
      "Epoch 50, CIFAR-10 Batch 4:  Loss:     0.0304 Validation Accuracy: 0.677000\n",
      "Epoch 50, CIFAR-10 Batch 5:  Loss:     0.0195 Validation Accuracy: 0.691600\n"
     ]
    }
   ],
   "source": [
    "\"\"\"\n",
    "DON'T MODIFY ANYTHING IN THIS CELL\n",
    "\"\"\"\n",
    "save_model_path = './image_classification'\n",
    "\n",
    "print('Training...')\n",
    "with tf.Session() as sess:\n",
    "    # Initializing the variables\n",
    "    sess.run(tf.global_variables_initializer())\n",
    "    \n",
    "    # Training cycle\n",
    "    for epoch in range(epochs):\n",
    "        # Loop over all batches\n",
    "        n_batches = 5\n",
    "        for batch_i in range(1, n_batches + 1):\n",
    "            for batch_features, batch_labels in helper.load_preprocess_training_batch(batch_i, batch_size):\n",
    "                train_neural_network(sess, optimizer, keep_probability, batch_features, batch_labels)\n",
    "            print('Epoch {:>2}, CIFAR-10 Batch {}:  '.format(epoch + 1, batch_i), end='')\n",
    "            print_stats(sess, batch_features, batch_labels, cost, accuracy)\n",
    "            \n",
    "    # Save Model\n",
    "    saver = tf.train.Saver()\n",
    "    save_path = saver.save(sess, save_model_path)"
   ]
  },
  {
   "cell_type": "markdown",
   "metadata": {
    "deletable": true,
    "editable": true
   },
   "source": [
    "# Checkpoint\n",
    "The model has been saved to disk.\n",
    "## Test Model\n",
    "Test your model against the test dataset.  This will be your final accuracy. You should have an accuracy greater than 50%. If you don't, keep tweaking the model architecture and parameters."
   ]
  },
  {
   "cell_type": "code",
   "execution_count": 22,
   "metadata": {
    "collapsed": false,
    "deletable": true,
    "editable": true
   },
   "outputs": [
    {
     "name": "stdout",
     "output_type": "stream",
     "text": [
      "Testing Accuracy: 0.674609375\n",
      "\n"
     ]
    },
    {
     "data": {
      "image/png": "[encoded data removed]",
      "text/plain": [
       "<matplotlib.figure.Figure at 0x7f6c56f68eb8>"
      ]
     },
     "metadata": {
      "image/png": {
       "height": 319,
       "width": 355
      }
     },
     "output_type": "display_data"
    }
   ],
   "source": [
    "\"\"\"\n",
    "DON'T MODIFY ANYTHING IN THIS CELL\n",
    "\"\"\"\n",
    "%matplotlib inline\n",
    "%config InlineBackend.figure_format = 'retina'\n",
    "\n",
    "import tensorflow as tf\n",
    "import pickle\n",
    "import helper\n",
    "import random\n",
    "\n",
    "# Set batch size if not already set\n",
    "try:\n",
    "    if batch_size:\n",
    "        pass\n",
    "except NameError:\n",
    "    batch_size = 64\n",
    "\n",
    "save_model_path = './image_classification'\n",
    "n_samples = 4\n",
    "top_n_predictions = 3\n",
    "\n",
    "def test_model():\n",
    "    \"\"\"\n",
    "    Test the saved model against the test dataset\n",
    "    \"\"\"\n",
    "\n",
    "    test_features, test_labels = pickle.load(open('preprocess_training.p', mode='rb'))\n",
    "    loaded_graph = tf.Graph()\n",
    "\n",
    "    with tf.Session(graph=loaded_graph) as sess:\n",
    "        # Load model\n",
    "        loader = tf.train.import_meta_graph(save_model_path + '.meta')\n",
    "        loader.restore(sess, save_model_path)\n",
    "\n",
    "        # Get Tensors from loaded model\n",
    "        loaded_x = loaded_graph.get_tensor_by_name('x:0')\n",
    "        loaded_y = loaded_graph.get_tensor_by_name('y:0')\n",
    "        loaded_keep_prob = loaded_graph.get_tensor_by_name('keep_prob:0')\n",
    "        loaded_logits = loaded_graph.get_tensor_by_name('logits:0')\n",
    "        loaded_acc = loaded_graph.get_tensor_by_name('accuracy:0')\n",
    "        \n",
    "        # Get accuracy in batches for memory limitations\n",
    "        test_batch_acc_total = 0\n",
    "        test_batch_count = 0\n",
    "        \n",
    "        for train_feature_batch, train_label_batch in helper.batch_features_labels(test_features, test_labels, batch_size):\n",
    "            test_batch_acc_total += sess.run(\n",
    "                loaded_acc,\n",
    "                feed_dict={loaded_x: train_feature_batch, loaded_y: train_label_batch, loaded_keep_prob: 1.0})\n",
    "            test_batch_count += 1\n",
    "\n",
    "        print('Testing Accuracy: {}\\n'.format(test_batch_acc_total/test_batch_count))\n",
    "\n",
    "        # Print Random Samples\n",
    "        random_test_features, random_test_labels = tuple(zip(*random.sample(list(zip(test_features, test_labels)), n_samples)))\n",
    "        random_test_predictions = sess.run(\n",
    "            tf.nn.top_k(tf.nn.softmax(loaded_logits), top_n_predictions),\n",
    "            feed_dict={loaded_x: random_test_features, loaded_y: random_test_labels, loaded_keep_prob: 1.0})\n",
    "        helper.display_image_predictions(random_test_features, random_test_labels, random_test_predictions)\n",
    "\n",
    "\n",
    "test_model()"
   ]
  },
  {
   "cell_type": "markdown",
   "metadata": {
    "deletable": true,
    "editable": true
   },
   "source": [
    "## Why 50-70% Accuracy?\n",
    "You might be wondering why you can't get an accuracy any higher. First things first, 50% isn't bad for a simple CNN.  Pure guessing would get you 10% accuracy. However, you might notice people are getting scores [well above 70%](http://rodrigob.github.io/are_we_there_yet/build/classification_datasets_results.html#43494641522d3130).  That's because we haven't taught you all there is to know about neural networks. We still need to cover a few more techniques.\n",
    "## Submitting This Project\n",
    "When submitting this project, make sure to run all the cells before saving the notebook.  Save the notebook file as \"dlnd_image_classification.ipynb\" and save it as a HTML file under \"File\" -> \"Download as\".  Include the \"helper.py\" and \"problem_unittests.py\" files in your submission."
   ]
  },
  {
   "cell_type": "code",
   "execution_count": null,
   "metadata": {
    "collapsed": true
   },
   "outputs": [],
   "source": []
  }
 ],
 "metadata": {
  "anaconda-cloud": {},
  "kernelspec": {
   "display_name": "Python [conda env:dl]",
   "language": "python",
   "name": "conda-env-dl-py"
  },
  "language_info": {
   "codemirror_mode": {
    "name": "ipython",
    "version": 3
   },
   "file_extension": ".py",
   "mimetype": "text/x-python",
   "name": "python",
   "nbconvert_exporter": "python",
   "pygments_lexer": "ipython3",
   "version": "3.5.2"
  }
 },
 "nbformat": 4,
 "nbformat_minor": 0
}
