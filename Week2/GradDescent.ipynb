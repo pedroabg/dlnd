{
 "cells": [
  {
   "cell_type": "code",
   "execution_count": 20,
   "metadata": {
    "collapsed": true
   },
   "outputs": [],
   "source": [
    "def gradient_descent_update(x, gradx, learning_rate):\n",
    "    \"\"\"\n",
    "    Performs a gradient descent update.\n",
    "    \"\"\"\n",
    "    # TODO: Implement gradient descent.\n",
    "    \n",
    "    # Return the new value for x\n",
    "    \n",
    "    return x - (learning_rate * gradx)"
   ]
  },
  {
   "cell_type": "code",
   "execution_count": 21,
   "metadata": {
    "collapsed": false
   },
   "outputs": [
    {
     "name": "stdout",
     "output_type": "stream",
     "text": [
      "EPOCH 0: Cost = 29181609.000, x = 10804.000\n",
      "EPOCH 1: Cost = 18676231.560, x = 8643.200\n",
      "EPOCH 2: Cost = 11952789.998, x = 6914.560\n",
      "EPOCH 3: Cost = 7649787.399, x = 5531.648\n",
      "EPOCH 4: Cost = 4895865.735, x = 4425.318\n",
      "EPOCH 5: Cost = 3133355.871, x = 3540.255\n",
      "EPOCH 6: Cost = 2005349.557, x = 2832.204\n",
      "EPOCH 7: Cost = 1283425.517, x = 2265.763\n",
      "EPOCH 8: Cost = 821394.131, x = 1812.610\n",
      "EPOCH 9: Cost = 525694.044, x = 1450.088\n",
      "EPOCH 10: Cost = 336445.988, x = 1160.071\n",
      "EPOCH 11: Cost = 215327.232, x = 928.057\n",
      "EPOCH 12: Cost = 137811.229, x = 742.445\n",
      "EPOCH 13: Cost = 88200.986, x = 593.956\n",
      "EPOCH 14: Cost = 56450.431, x = 475.165\n",
      "EPOCH 15: Cost = 36130.076, x = 380.132\n",
      "EPOCH 16: Cost = 23125.049, x = 304.106\n",
      "EPOCH 17: Cost = 14801.831, x = 243.284\n",
      "EPOCH 18: Cost = 9474.972, x = 194.628\n",
      "EPOCH 19: Cost = 6065.782, x = 155.702\n",
      "EPOCH 20: Cost = 3883.900, x = 124.562\n",
      "EPOCH 21: Cost = 2487.496, x = 99.649\n",
      "EPOCH 22: Cost = 1593.798, x = 79.719\n",
      "EPOCH 23: Cost = 1021.830, x = 63.776\n",
      "EPOCH 24: Cost = 655.772, x = 51.020\n",
      "EPOCH 25: Cost = 421.494, x = 40.816\n",
      "EPOCH 26: Cost = 271.556, x = 32.653\n",
      "EPOCH 27: Cost = 175.596, x = 26.122\n",
      "EPOCH 28: Cost = 114.181, x = 20.898\n",
      "EPOCH 29: Cost = 74.876, x = 16.718\n",
      "EPOCH 30: Cost = 49.721, x = 13.375\n",
      "EPOCH 31: Cost = 33.621, x = 10.700\n",
      "EPOCH 32: Cost = 23.318, x = 8.560\n",
      "EPOCH 33: Cost = 16.723, x = 6.848\n",
      "EPOCH 34: Cost = 12.503, x = 5.478\n",
      "EPOCH 35: Cost = 9.802, x = 4.383\n",
      "EPOCH 36: Cost = 8.073, x = 3.506\n",
      "EPOCH 37: Cost = 6.967, x = 2.805\n",
      "EPOCH 38: Cost = 6.259, x = 2.244\n",
      "EPOCH 39: Cost = 5.806, x = 1.795\n",
      "EPOCH 40: Cost = 5.516, x = 1.436\n",
      "EPOCH 41: Cost = 5.330, x = 1.149\n",
      "EPOCH 42: Cost = 5.211, x = 0.919\n",
      "EPOCH 43: Cost = 5.135, x = 0.735\n",
      "EPOCH 44: Cost = 5.087, x = 0.588\n",
      "EPOCH 45: Cost = 5.055, x = 0.471\n",
      "EPOCH 46: Cost = 5.035, x = 0.376\n",
      "EPOCH 47: Cost = 5.023, x = 0.301\n",
      "EPOCH 48: Cost = 5.015, x = 0.241\n",
      "EPOCH 49: Cost = 5.009, x = 0.193\n",
      "EPOCH 50: Cost = 5.006, x = 0.154\n",
      "EPOCH 51: Cost = 5.004, x = 0.123\n",
      "EPOCH 52: Cost = 5.002, x = 0.099\n",
      "EPOCH 53: Cost = 5.002, x = 0.079\n",
      "EPOCH 54: Cost = 5.001, x = 0.063\n",
      "EPOCH 55: Cost = 5.001, x = 0.051\n",
      "EPOCH 56: Cost = 5.000, x = 0.040\n",
      "EPOCH 57: Cost = 5.000, x = 0.032\n",
      "EPOCH 58: Cost = 5.000, x = 0.026\n",
      "EPOCH 59: Cost = 5.000, x = 0.021\n",
      "EPOCH 60: Cost = 5.000, x = 0.017\n",
      "EPOCH 61: Cost = 5.000, x = 0.013\n",
      "EPOCH 62: Cost = 5.000, x = 0.011\n",
      "EPOCH 63: Cost = 5.000, x = 0.008\n",
      "EPOCH 64: Cost = 5.000, x = 0.007\n",
      "EPOCH 65: Cost = 5.000, x = 0.005\n",
      "EPOCH 66: Cost = 5.000, x = 0.004\n",
      "EPOCH 67: Cost = 5.000, x = 0.003\n",
      "EPOCH 68: Cost = 5.000, x = 0.003\n",
      "EPOCH 69: Cost = 5.000, x = 0.002\n",
      "EPOCH 70: Cost = 5.000, x = 0.002\n",
      "EPOCH 71: Cost = 5.000, x = 0.001\n",
      "EPOCH 72: Cost = 5.000, x = 0.001\n",
      "EPOCH 73: Cost = 5.000, x = 0.001\n",
      "EPOCH 74: Cost = 5.000, x = 0.001\n",
      "EPOCH 75: Cost = 5.000, x = 0.001\n",
      "EPOCH 76: Cost = 5.000, x = 0.000\n",
      "EPOCH 77: Cost = 5.000, x = 0.000\n",
      "EPOCH 78: Cost = 5.000, x = 0.000\n",
      "EPOCH 79: Cost = 5.000, x = 0.000\n",
      "EPOCH 80: Cost = 5.000, x = 0.000\n",
      "EPOCH 81: Cost = 5.000, x = 0.000\n",
      "EPOCH 82: Cost = 5.000, x = 0.000\n",
      "EPOCH 83: Cost = 5.000, x = 0.000\n",
      "EPOCH 84: Cost = 5.000, x = 0.000\n",
      "EPOCH 85: Cost = 5.000, x = 0.000\n",
      "EPOCH 86: Cost = 5.000, x = 0.000\n",
      "EPOCH 87: Cost = 5.000, x = 0.000\n",
      "EPOCH 88: Cost = 5.000, x = 0.000\n",
      "EPOCH 89: Cost = 5.000, x = 0.000\n",
      "EPOCH 90: Cost = 5.000, x = 0.000\n",
      "EPOCH 91: Cost = 5.000, x = 0.000\n",
      "EPOCH 92: Cost = 5.000, x = 0.000\n",
      "EPOCH 93: Cost = 5.000, x = 0.000\n",
      "EPOCH 94: Cost = 5.000, x = 0.000\n",
      "EPOCH 95: Cost = 5.000, x = 0.000\n",
      "EPOCH 96: Cost = 5.000, x = 0.000\n",
      "EPOCH 97: Cost = 5.000, x = 0.000\n",
      "EPOCH 98: Cost = 5.000, x = 0.000\n",
      "EPOCH 99: Cost = 5.000, x = 0.000\n",
      "EPOCH 100: Cost = 5.000, x = 0.000\n"
     ]
    }
   ],
   "source": [
    "\"\"\"\n",
    "Given the starting point of any `x` gradient descent\n",
    "should be able to find the minimum value of x for the\n",
    "cost function `f` defined below.\n",
    "\"\"\"\n",
    "import random\n",
    "\n",
    "\n",
    "def f(x):\n",
    "    \"\"\"\n",
    "    Quadratic function.\n",
    "\n",
    "    It's easy to see the minimum value of the function\n",
    "    is 5 when is x=0.\n",
    "    \"\"\"\n",
    "    return x**2 + 5\n",
    "\n",
    "\n",
    "def df(x):\n",
    "    \"\"\"\n",
    "    Derivative of `f` with respect to `x`.\n",
    "    \"\"\"\n",
    "    return 2*x\n",
    "\n",
    "\n",
    "# Random number better 0 and 10,000. Feel free to set x whatever you like.\n",
    "x = random.randint(0, 10000)\n",
    "# TODO: Set the learning rate\n",
    "learning_rate = 0.1\n",
    "epochs = 100\n",
    "\n",
    "for i in range(epochs+1):\n",
    "    cost = f(x)\n",
    "    gradx = df(x)\n",
    "    print(\"EPOCH {}: Cost = {:.3f}, x = {:.3f}\".format(i, cost, gradx))\n",
    "    x = gradient_descent_update(x, gradx, learning_rate)"
   ]
  },
  {
   "cell_type": "code",
   "execution_count": 17,
   "metadata": {
    "collapsed": false
   },
   "outputs": [
    {
     "ename": "TypeError",
     "evalue": "unsupported operand type(s) for *: 'int' and 'NoneType'",
     "output_type": "error",
     "traceback": [
      "\u001b[1;31m---------------------------------------------------------------------------\u001b[0m",
      "\u001b[1;31mTypeError\u001b[0m                                 Traceback (most recent call last)",
      "\u001b[1;32m<ipython-input-17-c918db145e7e>\u001b[0m in \u001b[0;36m<module>\u001b[1;34m()\u001b[0m\n\u001b[1;32m----> 1\u001b[1;33m \u001b[0mgradx\u001b[0m \u001b[1;33m*\u001b[0m \u001b[0mlearning_rate\u001b[0m\u001b[1;33m\u001b[0m\u001b[0m\n\u001b[0m",
      "\u001b[1;31mTypeError\u001b[0m: unsupported operand type(s) for *: 'int' and 'NoneType'"
     ]
    }
   ],
   "source": [
    "gradx * learning_rate"
   ]
  },
  {
   "cell_type": "code",
   "execution_count": null,
   "metadata": {
    "collapsed": true
   },
   "outputs": [],
   "source": []
  }
 ],
 "metadata": {
  "kernelspec": {
   "display_name": "Python 3",
   "language": "python",
   "name": "python3"
  },
  "language_info": {
   "codemirror_mode": {
    "name": "ipython",
    "version": 3
   },
   "file_extension": ".py",
   "mimetype": "text/x-python",
   "name": "python",
   "nbconvert_exporter": "python",
   "pygments_lexer": "ipython3",
   "version": "3.6.1"
  }
 },
 "nbformat": 4,
 "nbformat_minor": 2
}
